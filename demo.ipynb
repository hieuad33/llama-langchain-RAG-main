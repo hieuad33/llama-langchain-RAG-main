{
 "cells": [
  {
   "cell_type": "code",
   "execution_count": 11,
   "id": "ac8f9105",
   "metadata": {},
   "outputs": [],
   "source": [
    "import requests\n",
    "\n",
    "class ChatbotClient:\n",
    "    def __init__(self, base_url='http://localhost:8080'):\n",
    "        self.base_url = base_url\n",
    "        self.context = \"\"\n",
    "\n",
    "        self.assistant_response = \"\"\n",
    "    def clean_chat(self):\n",
    "        self.context = \"\"\n",
    "        self.assistant_response = \"\"\n",
    "        \n",
    "    def get_server_health(self):\n",
    "        try:\n",
    "            response = requests.get(f'{self.base_url}/health')\n",
    "            response.raise_for_status()  # Raise an exception for bad status codes\n",
    "            return response.json()\n",
    "        except requests.exceptions.RequestException as e:\n",
    "            return f\"Error connecting to the server: {e}\"\n",
    "        except ValueError:\n",
    "            return \"Error decoding JSON response.\"\n",
    "\n",
    "    def post_completion(self, context, user_input):\n",
    "        prompt = f\"{context}\\nUser: {user_input}\\nAssistant:\"\n",
    "        data = {\n",
    "            'prompt': prompt,\n",
    "            'temperature': 0.8,\n",
    "            'top_k': 35,\n",
    "            'top_p': 0.95,\n",
    "            'n_predict': 400,\n",
    "            'stop': [\"</s>\", \"Assistant:\", \"User:\"]\n",
    "        }\n",
    "        headers = {'Content-Type': 'application/json'}\n",
    "        try:\n",
    "            response = requests.post(f'{self.base_url}/completion', json=data, headers=headers)\n",
    "            response.raise_for_status()\n",
    "            return response.json()['content'].strip()\n",
    "        except requests.exceptions.RequestException as e:\n",
    "            return f\"Error sending request: {e}\"\n",
    "        except (ValueError, KeyError):\n",
    "            return \"Error processing the server response.\"\n",
    "\n",
    "    def update_context(self, context, user_input, assistant_response):\n",
    "        return f\"{context}\\nUser: {user_input}\\nAssistant: {assistant_response}\"\n",
    "    def chat(self,user_input):\n",
    "        assistant_response = client.post_completion(self.context, user_input)\n",
    "        if assistant_response and \"Error\" not in assistant_response:\n",
    "            self.context = client.update_context(self.context, user_input, assistant_response)\n",
    "        return assistant_response\n",
    "            \n"
   ]
  },
  {
   "cell_type": "code",
   "execution_count": 12,
   "id": "9bbf7f1f",
   "metadata": {},
   "outputs": [],
   "source": [
    "client = ChatbotClient()"
   ]
  },
  {
   "cell_type": "code",
   "execution_count": 13,
   "id": "18345e3a",
   "metadata": {},
   "outputs": [
    {
     "data": {
      "text/plain": [
       "{'status': 'ok'}"
      ]
     },
     "execution_count": 13,
     "metadata": {},
     "output_type": "execute_result"
    }
   ],
   "source": [
    "health = client.get_server_health()\n",
    "health"
   ]
  },
  {
   "cell_type": "code",
   "execution_count": 14,
   "id": "aba520af",
   "metadata": {},
   "outputs": [
    {
     "data": {
      "text/plain": [
       "'Cái gì? Tháo cpu khỏi máy tính? Nó là phần cứng, bạn không thể tháo nó ra được.'"
      ]
     },
     "execution_count": 14,
     "metadata": {},
     "output_type": "execute_result"
    }
   ],
   "source": [
    "client.chat(\"chào bạn, bạn có thể cho tôi biết làm sao để tháo cpu khỏi máy tính không?\")"
   ]
  },
  {
   "cell_type": "code",
   "execution_count": 15,
   "id": "d1e36ccb",
   "metadata": {},
   "outputs": [
    {
     "data": {
      "text/plain": [
       "'Không có cách nào để thay thế nó được.'"
      ]
     },
     "execution_count": 15,
     "metadata": {},
     "output_type": "execute_result"
    }
   ],
   "source": [
    "client.chat(\"có cách nào để thay thế nó không?\")"
   ]
  },
  {
   "cell_type": "code",
   "execution_count": 18,
   "id": "d3d2c3ec",
   "metadata": {},
   "outputs": [],
   "source": [
    "client.clean_chat()"
   ]
  },
  {
   "cell_type": "code",
   "execution_count": 19,
   "id": "c624a3f3",
   "metadata": {},
   "outputs": [
    {
     "data": {
      "text/plain": [
       "'**Có hai cách để thay thế nó không:**\\n\\n**1. Sử dụng công cụ thay thế:**\\n\\n* Chọn phần tử bạn muốn thay thế.\\n* Nhấp vào nút \"Thay thế\".\\n* Chọn phần tử thay thế cho phần tử gốc.\\n* Nhấp vào nút \"Thay thế\".\\n\\n**2. Sử dụng công cụ hỗ trợ nhập:**\\n\\n* Nhấp vào phần tử bạn muốn thay thế.\\n* Nhập chữ cái hoặc ký tự mới vào phần nhập.\\n* Nhấp vào nút \"Enter\".\\n\\n**Lưu ý:**\\n\\n* Cách thay thế có thể khác nhau tùy vào loại phần tử và công cụ bạn sử dụng.\\n* Để đảm bảo thay thế chính xác, bạn có thể kiểm tra kết quả trước khi nhấn Enter.'"
      ]
     },
     "execution_count": 19,
     "metadata": {},
     "output_type": "execute_result"
    }
   ],
   "source": [
    "client.chat(\"có cách nào để thay thế nó không?\")"
   ]
  }
 ],
 "metadata": {
  "kernelspec": {
   "display_name": "Python 3",
   "language": "python",
   "name": "python3"
  },
  "language_info": {
   "codemirror_mode": {
    "name": "ipython",
    "version": 3
   },
   "file_extension": ".py",
   "mimetype": "text/x-python",
   "name": "python",
   "nbconvert_exporter": "python",
   "pygments_lexer": "ipython3",
   "version": "3.12.10"
  }
 },
 "nbformat": 4,
 "nbformat_minor": 5
}
